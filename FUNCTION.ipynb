{
  "nbformat": 4,
  "nbformat_minor": 0,
  "metadata": {
    "colab": {
      "provenance": []
    },
    "kernelspec": {
      "name": "python3",
      "display_name": "Python 3"
    },
    "language_info": {
      "name": "python"
    }
  },
  "cells": [
    {
      "cell_type": "markdown",
      "source": [
        "THEORY QUESTION"
      ],
      "metadata": {
        "id": "nRD4l0v9iJGc"
      }
    },
    {
      "cell_type": "markdown",
      "source": [
        "Q1   What is the differnce between a function and a method in python?\n",
        "\n",
        "    - A function is a block of code that is defind to perform a specific task,and it can be called any where.\n",
        "    EX: def sum(a,b):\n",
        "          return(a+b)\n",
        "\n",
        "    - A method is a function that is assosiated with an object.and it is define inside a class.\n",
        "    \n",
        "Q2   Explain the concept of function arguments and parameter in python.\n",
        "\n",
        "     - Function argument and parameter are fundamental concepts in defining and calling a function.\n",
        "\n",
        "     -PARAMETER: are the variables that are listed while making a fuction.EX: def sum(a,b):      #here a and b are the parameters.\n",
        "       print(\"sum\",a+b)\n",
        "\n",
        "     -ARGUMENTS: are the actual values or data you provide to a fuction after calling it.EX: sum(4,6) so it will print the sum of 4+5 and here 4 and 5 are the arguments that are the values assigned to parameter.\n",
        "\n",
        "Q3   What are the differnt ways to define and call a function.\n",
        "      \n",
        "     - There are several ways to define and call a fuction:\n",
        "       1)STANDARD FUNCTION\n",
        "         DEFINE:for making a fuction we need to use def keyword followed by function name and parameters inside parentheses.EX- def greet(\"name\"): print(f\"hello(name)\")\n",
        "         CALL: Use function name and write argument inside parentheses.EX- greet(\"sakshi\") if you call greet funtion it will return hello followed by the name you have given as a argument.\n",
        "\n",
        "       2)FUNCTION WITH DEFAULT VALUES\n",
        "         DEFINE: while making a fuction assign default value to the parameter so that if after calling a fuction if you forgot to assign some argument to the parameter so it will not show any error but shows the default value.EX- def sum(a=0,b=0,c=0,d=45):print(\"sum\",a+b+c+d)\n",
        "         CALL: You can call the function with or without providing argument to the default parameter.EX: sum() if you call this fuction without providing any argument.it will not show any error it will show sum 45 because all parameters have the default values.\n",
        "\n",
        "       3)FUNCTION WITH VARIABLES LENGTH ARGUMENTS\n",
        "         DEFINE: Use *args inside parenthese in place of parameters for variable length positional argument.EX- def sum_all(*args):return sum(args)\n",
        "         CALL: Pass multiple values as much as needed as arguments.EX- sum_all(2,4,5,3,7) so it will return sum of all the numbers you have passed.\n",
        "\n",
        "Q4    What are the purpose of return statement in python function?\n",
        "\n",
        "      - The purpose of the return statement in a python function is to send a result back to caller.it allows the function to provide an output after performing its operation.EX- def substract(a,b):print(a-b) so in this print statement will return the result back to the caller.\n",
        "\n",
        "Q5   What are the iterators in python and how do they differ from iterables?\n",
        "\n",
        "     - ITERABLES: any python object or data structure that is capable of returning its member one at a time is known as iterables.EX- LIST TUPLE OR STRING.\n",
        "\n",
        "     - ITERATOR: The intermideate step where you create an object that can be iterated that is called as iterator.\n",
        "\n",
        "\n",
        "Q6   Explain the concept of generators in python and how they are defined.\n",
        "\n",
        "     -A generator in python is a special type of function that allows you to generate a sequence of values one at a time,instead of returning all values at once like a regular function.this is helpful when working with large dataset becuase it saves memory.EX- def count_up_to(max)\n",
        "\n",
        "Q7   What are the advantages of using generators over regular functions?\n",
        "\n",
        "     -There are many Advantages of using generators over a regular function:-\n",
        "      1) Generators donot store all the values in memory at onces.they generate values one at a time when needed,because of this generators are memory efficient.\n",
        "\n",
        "      2) Genrators only calculate values when they are required.this means they donot do unneccesery work,which can improve performance.\n",
        "\n",
        "      3) Genrators are often easier to write and more readable for iterating over data compared to creating complex loop.\n",
        "\n",
        "Q8   What is a lambda function in python and when is it typically used?\n",
        "\n",
        "     - A lambda function in python is a small ,simple function that is defined using the lambda keyword.it can take any no. of input but only has one line of code that gets executed,and it automatically returns a result.EX- add = lambda x,y:x+b\n",
        "\n",
        "     - it is used when you need a quick that doesnot need a full definition with def.it is used for simple task.\n",
        "\n",
        "Q9   Explain the purpose and usage of the map() function in python.\n",
        "\n",
        "     - The map() function in python is used to apply a function to each item in a collection (like a list tuple or string).it help u process each element in the collection without needing to write a loop.\n",
        "\n",
        "     -PURPOSE: The main purpose of map() is to apply a function to every item in an iterableand return a new collection.\n",
        "\n",
        "Q10  What is the differnce between map() reduce() and filter() function in python?\n",
        "\n",
        "     - All these function are used to process the collection like (list,tuple),but have differnt purposes and behaviors.\n",
        "\n",
        "     1)map(): Transform each element in an iterable by applying a given function after this it returns a new iterable containing result of applied function.you can use map() when you want to perform a specific operation on every item in an iterable.EX: map(function,iterable)\n",
        "\n",
        "     2)reduce(): applies a two argument function cumulatively to the item in an iterable reducing it to single value.you can use reduce() if you want to combine all elements of an iterable into a single value.EX: (SUM,PRODUCT,CONCATENATION)\n",
        "\n",
        "     3)filter(): filter elements from an iterable based on whether they satisfy a condition and it will return a new iterable  containg the elements only which satisfy the given condition. you can use filter() if you want to select specific item from an iterable based on a condition.\n",
        "\n",
        "\n",
        "         \n"
      ],
      "metadata": {
        "id": "OtJjSUYUiXoN"
      }
    },
    {
      "cell_type": "markdown",
      "source": [
        "#PRACTICLE QUESTIONS\n"
      ],
      "metadata": {
        "id": "wIYPEGUkWKAA"
      }
    },
    {
      "cell_type": "code",
      "execution_count": 3,
      "metadata": {
        "id": "8MaLgSTrh6nj"
      },
      "outputs": [],
      "source": [
        "#Q1 Write a python function that takes a list og no. as input and returns the sum of all even no.\n",
        "\n",
        "def sum_even(l):\n",
        "  sum=0\n",
        "  for i in l:\n",
        "    if i%2==0:\n",
        "      sum+=i\n",
        "  return sum"
      ]
    },
    {
      "cell_type": "code",
      "source": [
        "#Q2 Create a python function that accepts a string and returns the return of that string.\n",
        "\n",
        "def reverse_string(s):\n",
        "  return s[::-1]"
      ],
      "metadata": {
        "id": "ZE810BpliC2d"
      },
      "execution_count": 4,
      "outputs": []
    },
    {
      "cell_type": "code",
      "source": [
        "#Q3 Implement a python function that take a list of integers and returns a new list that have square of each no.\n",
        "\n",
        "def square_list(l):\n",
        "  return [i**2 for i in l]"
      ],
      "metadata": {
        "id": "fFmustVzXcYu"
      },
      "execution_count": 5,
      "outputs": []
    },
    {
      "cell_type": "code",
      "source": [
        "#Q4 Write a python function that check if a given no. is prime or not from 1 to 200.\n",
        "\n",
        "def is_prime(n):\n",
        "  if n<2:\n",
        "    return False\n",
        "  for i in range(2,int(n**0.5)+1):\n",
        "    if n%i==0:\n",
        "      return False\n",
        "  return True"
      ],
      "metadata": {
        "id": "XoI6wyl6XccQ"
      },
      "execution_count": 7,
      "outputs": []
    },
    {
      "cell_type": "code",
      "source": [
        "#Q5 Create an iterator class in python that generates the fibonacci sequence up to a specified no. of terms.\n",
        "\n",
        "def fibonacci(n):\n",
        "  a,b=0,1\n",
        "  for i in range(n):\n",
        "    yield a\n",
        "    a,b=b,a+b"
      ],
      "metadata": {
        "id": "nh8tajy2Xcf9"
      },
      "execution_count": 8,
      "outputs": []
    },
    {
      "cell_type": "code",
      "source": [
        "#Q6 Write a generator function in python that yields the powers of 2 up to a given exponent.\n",
        "\n",
        "def power_of_two(n):\n",
        "  for i in range(n+1):\n",
        "    yield 2**i"
      ],
      "metadata": {
        "id": "vLR9GrTVXcj2"
      },
      "execution_count": 9,
      "outputs": []
    },
    {
      "cell_type": "code",
      "source": [
        "#Q7 Implement a generator function that read a file line by line yields each line as a string.\n",
        "\n",
        "def read_file(filename):\n",
        "  with open(filename,'r') as file:\n",
        "    for line in file:\n",
        "      yield line"
      ],
      "metadata": {
        "id": "TeG4pf0sXcsW"
      },
      "execution_count": 10,
      "outputs": []
    },
    {
      "cell_type": "code",
      "source": [
        "#Q8 Use a lambda function in python to sort a list of tuples based on the 2nd element of each tuple.\n",
        "\n",
        "tuple_list=[(1,2),(3,4),(5,6),(7,8)]\n",
        "sorted_list=sorted(tuple_list,key=lambda x:x[1])\n",
        "\n",
        "\n",
        "\n"
      ],
      "metadata": {
        "id": "SRZzs34HdlPi"
      },
      "execution_count": 11,
      "outputs": []
    },
    {
      "cell_type": "code",
      "source": [
        "#Q9 Write a python programme that uses map() to convert a list of temprature from calcius to fehrenheit.\n",
        "\n",
        "celcius_temprature = [0,20,37,100]\n",
        "fahrenheit_temprature=list(map(lambda x:(x*9/5)+32,celcius_temprature))"
      ],
      "metadata": {
        "id": "kmlTw018dlbL"
      },
      "execution_count": 1,
      "outputs": []
    },
    {
      "cell_type": "code",
      "source": [
        "#Q10 create  a python programme that uses filter() to remove all the vowels from a given string.\n",
        "\n",
        "def remove_vowels(s):\n",
        "  vowels='aeiouAEIOU'\n",
        "  return ''.join(filter(lambda x:x not in vowels,s))"
      ],
      "metadata": {
        "id": "0HxxY3PSdmH7"
      },
      "execution_count": 2,
      "outputs": []
    }
  ]
}